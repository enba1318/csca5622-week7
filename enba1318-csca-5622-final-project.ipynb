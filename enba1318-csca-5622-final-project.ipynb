{
 "cells": [
  {
   "cell_type": "markdown",
   "id": "69f4521b-93fa-4914-a2f4-f7c092c2e866",
   "metadata": {},
   "source": [
    "# CSCA 5622 Supervised Learning Final Project"
   ]
  },
  {
   "cell_type": "markdown",
   "id": "d4df8eda-af92-4262-b532-7e0f0b6fc000",
   "metadata": {},
   "source": [
    "For my final project in a Supervised Learning course, I am utilizing the Wine dataset, a well-known resource in data science. The primary objective of this project is to apply various classification algorithms to this dataset and exploring and getting acquainted with various Python libraries used in data analysis and machine learning. This will provide a solid foundation for handling more complex data in future projects."
   ]
  },
  {
   "cell_type": "code",
   "execution_count": 1,
   "id": "2fc58705-1e44-40f1-a2fd-62332888d0cc",
   "metadata": {},
   "outputs": [],
   "source": [
    "# Importing all the required libraries\n",
    "\n",
    "from math import exp\n",
    "import numpy as np\n",
    "import pandas as pd\n",
    "import seaborn as sns\n",
    "from sklearn.linear_model import LogisticRegression\n",
    "from sklearn.model_selection import train_test_split, GridSearchCV\n",
    "from sklearn.preprocessing import StandardScaler\n",
    "from sklearn.metrics import accuracy_score, classification_report, precision_score, mean_squared_error\n",
    "from sklearn.ensemble import RandomForestClassifier\n",
    "from sklearn.svm import SVC\n",
    "\n",
    "import matplotlib.pyplot as plt\n",
    "%matplotlib inline\n"
   ]
  },
  {
   "cell_type": "markdown",
   "id": "6fc471b6-1a55-4f8c-9221-aa37ca762756",
   "metadata": {},
   "source": [
    "# Dataset\n",
    "\n",
    "1. Title of Database: Wine recognition data\n",
    "2. Sources:\n",
    "   (a) Forina, M. et al, PARVUS - An Extendible Package for Data\n",
    "       Exploration, Classification and Correlation. Institute of Pharmaceutical\n",
    "       and Food Analysis and Technologies, Via Brigata Salerno, \n",
    "       16147 Genoa, Italy.\n",
    "\n",
    "   (b) Stefan Aeberhard, email: stefan@coral.cs.jcu.edu.au\n",
    "   (c) July 1991\n",
    "3. Link: \n",
    "    https://archive.ics.uci.edu/dataset/109/wine\n",
    "\n",
    "\n",
    "4. Attributes:\n",
    "\n",
    "   -- The attributes are (dontated by Riccardo Leardi, \n",
    "\triclea@anchem.unige.it )\n",
    " \t1) Alcohol\n",
    " \t2) Malic acid\n",
    " \t3) Ash\n",
    "\t4) Alcalinity of ash  \n",
    " \t5) Magnesium\n",
    "\t6) Total phenols\n",
    " \t7) Flavanoids\n",
    " \t8) Nonflavanoid phenols\n",
    " \t9) Proanthocyanins\n",
    "\t10)Color intensity\n",
    " \t11)Hue\n",
    " \t12)OD280/OD315 of diluted wines\n",
    " \t13)Proline            \n",
    "\n",
    "5. Number of Instances\n",
    "\n",
    "\tclass 1 59\n",
    "\tclass 2 71\n",
    "\tclass 3 48\n",
    "\n",
    "6. Number of Attributes \n",
    "\t\n",
    "\t13\n",
    "\n",
    "7. For Each Attribute:\n",
    "\n",
    "\tAll attributes are continuous\n",
    "\t\n",
    "\tNo statistics available, but suggest to standardise\n",
    "\tvariables for certain uses (e.g. for us with classifiers\n",
    "\twhich are NOT scale invariant)\n",
    "\n",
    "\tNOTE: 1st attribute is class identifier (1-3)\n",
    "\n",
    "8. Missing Attribute Values:\n",
    "\n",
    "\tNone\n",
    "\n",
    "9. Class Distribution: number of instances per class\n"
   ]
  },
  {
   "cell_type": "code",
   "execution_count": 4,
   "id": "2a853a7f-1e56-4714-b74d-06a325afd4ab",
   "metadata": {
    "tags": []
   },
   "outputs": [
    {
     "name": "stdout",
     "output_type": "stream",
     "text": [
      "   Class  Alcohol  Malic acid   Ash  Alcalinity of ash  Magnesium  \\\n",
      "0      1    14.23        1.71  2.43               15.6        127   \n",
      "1      1    13.20        1.78  2.14               11.2        100   \n",
      "2      1    13.16        2.36  2.67               18.6        101   \n",
      "3      1    14.37        1.95  2.50               16.8        113   \n",
      "4      1    13.24        2.59  2.87               21.0        118   \n",
      "\n",
      "   Total phenols  Flavanoids  Nonflavanoid phenols  Proanthocyanins  \\\n",
      "0           2.80        3.06                  0.28             2.29   \n",
      "1           2.65        2.76                  0.26             1.28   \n",
      "2           2.80        3.24                  0.30             2.81   \n",
      "3           3.85        3.49                  0.24             2.18   \n",
      "4           2.80        2.69                  0.39             1.82   \n",
      "\n",
      "   Color intensity   Hue  OD280/OD315  Proline  \n",
      "0             5.64  1.04         3.92     1065  \n",
      "1             4.38  1.05         3.40     1050  \n",
      "2             5.68  1.03         3.17     1185  \n",
      "3             7.80  0.86         3.45     1480  \n",
      "4             4.32  1.04         2.93      735  \n",
      "<class 'pandas.core.frame.DataFrame'>\n",
      "RangeIndex: 178 entries, 0 to 177\n",
      "Data columns (total 14 columns):\n",
      " #   Column                Non-Null Count  Dtype  \n",
      "---  ------                --------------  -----  \n",
      " 0   Class                 178 non-null    int64  \n",
      " 1   Alcohol               178 non-null    float64\n",
      " 2   Malic acid            178 non-null    float64\n",
      " 3   Ash                   178 non-null    float64\n",
      " 4   Alcalinity of ash     178 non-null    float64\n",
      " 5   Magnesium             178 non-null    int64  \n",
      " 6   Total phenols         178 non-null    float64\n",
      " 7   Flavanoids            178 non-null    float64\n",
      " 8   Nonflavanoid phenols  178 non-null    float64\n",
      " 9   Proanthocyanins       178 non-null    float64\n",
      " 10  Color intensity       178 non-null    float64\n",
      " 11  Hue                   178 non-null    float64\n",
      " 12  OD280/OD315           178 non-null    float64\n",
      " 13  Proline               178 non-null    int64  \n",
      "dtypes: float64(11), int64(3)\n",
      "memory usage: 19.6 KB\n",
      "None\n",
      "            Class     Alcohol  Malic acid         Ash  Alcalinity of ash  \\\n",
      "count  178.000000  178.000000  178.000000  178.000000         178.000000   \n",
      "mean     1.938202   13.000618    2.336348    2.366517          19.494944   \n",
      "std      0.775035    0.811827    1.117146    0.274344           3.339564   \n",
      "min      1.000000   11.030000    0.740000    1.360000          10.600000   \n",
      "25%      1.000000   12.362500    1.602500    2.210000          17.200000   \n",
      "50%      2.000000   13.050000    1.865000    2.360000          19.500000   \n",
      "75%      3.000000   13.677500    3.082500    2.557500          21.500000   \n",
      "max      3.000000   14.830000    5.800000    3.230000          30.000000   \n",
      "\n",
      "        Magnesium  Total phenols  Flavanoids  Nonflavanoid phenols  \\\n",
      "count  178.000000     178.000000  178.000000            178.000000   \n",
      "mean    99.741573       2.295112    2.029270              0.361854   \n",
      "std     14.282484       0.625851    0.998859              0.124453   \n",
      "min     70.000000       0.980000    0.340000              0.130000   \n",
      "25%     88.000000       1.742500    1.205000              0.270000   \n",
      "50%     98.000000       2.355000    2.135000              0.340000   \n",
      "75%    107.000000       2.800000    2.875000              0.437500   \n",
      "max    162.000000       3.880000    5.080000              0.660000   \n",
      "\n",
      "       Proanthocyanins  Color intensity         Hue  OD280/OD315      Proline  \n",
      "count       178.000000       178.000000  178.000000   178.000000   178.000000  \n",
      "mean          1.590899         5.058090    0.957449     2.611685   746.893258  \n",
      "std           0.572359         2.318286    0.228572     0.709990   314.907474  \n",
      "min           0.410000         1.280000    0.480000     1.270000   278.000000  \n",
      "25%           1.250000         3.220000    0.782500     1.937500   500.500000  \n",
      "50%           1.555000         4.690000    0.965000     2.780000   673.500000  \n",
      "75%           1.950000         6.200000    1.120000     3.170000   985.000000  \n",
      "max           3.580000        13.000000    1.710000     4.000000  1680.000000  \n",
      "Null values in each columns\n",
      "Class                   0\n",
      "Alcohol                 0\n",
      "Malic acid              0\n",
      "Ash                     0\n",
      "Alcalinity of ash       0\n",
      "Magnesium               0\n",
      "Total phenols           0\n",
      "Flavanoids              0\n",
      "Nonflavanoid phenols    0\n",
      "Proanthocyanins         0\n",
      "Color intensity         0\n",
      "Hue                     0\n",
      "OD280/OD315             0\n",
      "Proline                 0\n",
      "dtype: int64\n"
     ]
    },
    {
     "data": {
      "image/png": "[encoded data removed]",
      "text/plain": [
       "<Figure size 640x480 with 1 Axes>"
      ]
     },
     "metadata": {},
     "output_type": "display_data"
    }
   ],
   "source": [
    "# Load data\n",
    "\n",
    "filepath = '~/notebooks/CSCA-5622/final project/wine.data' # change this path for your environment\n",
    "target_column = 'Class'\n",
    "random_state = 123\n",
    "performance=['',0] * 3\n",
    "\n",
    "column_names = [\n",
    "    'Class', 'Alcohol', 'Malic acid', 'Ash', 'Alcalinity of ash','Magnesium',\n",
    "    'Total phenols', 'Flavanoids', 'Nonflavanoid phenols', 'Proanthocyanins', \n",
    "    'Color intensity', 'Hue', 'OD280/OD315', 'Proline'\n",
    "]\n",
    "\n",
    "df = pd.read_csv(filepath, header=None, names=column_names)\n",
    "\n",
    "# Initial inspection\n",
    "print(df.head())\n",
    "print(df.info())\n",
    "print(df.describe())\n",
    "\n",
    "# Check for missing values\n",
    "print('Null values in each columns')\n",
    "print(df.isnull().sum())\n",
    "\n",
    "# Distribution of Classes\n",
    "class_counts = df[target_column].value_counts()\n",
    "class_counts.plot(kind='bar')\n",
    "plt.xlabel('Class')\n",
    "plt.ylabel('Count')\n",
    "plt.title('Distribution of Classes')\n",
    "plt.show()"
   ]
  },
  {
   "cell_type": "markdown",
   "id": "9900197d-7ba7-49cc-bf28-8a0d47ad42e8",
   "metadata": {},
   "source": [
    "Will split train and test data to an 80:20 ratio, a commonly used approach in machine learning"
   ]
  },
  {
   "cell_type": "code",
   "execution_count": 5,
   "id": "4872eda5-e280-4af2-a923-9949fb9a934a",
   "metadata": {
    "tags": []
   },
   "outputs": [
    {
     "name": "stdout",
     "output_type": "stream",
     "text": [
      "X_train 142 79.8%\n",
      "X_test 36 20.2%\n",
      "y_train 142 79.8%\n",
      "y_test 36 20.2%\n"
     ]
    }
   ],
   "source": [
    "\n",
    "# Target column is \"Class\", as described when loading data\n",
    "X = df.drop(target_column, axis=1)\n",
    "y = df[target_column]  \n",
    "\n",
    "X_train, X_test, y_train, y_test = train_test_split(X, y, test_size=0.2, random_state=random_state)\n",
    "\n",
    "print('X_train', len(X_train), \"{:.1f}%\".format(len(X_train)/len(df) * 100))\n",
    "print('X_test', len(X_test), \"{:.1f}%\".format(len(X_test)/len(df) * 100))\n",
    "print('y_train', len(y_train), \"{:.1f}%\".format(len(y_train)/len(df) * 100))\n",
    "print('y_test', len(y_test), \"{:.1f}%\".format(len(y_test)/len(df) * 100))\n",
    "\n",
    "# Feature scaling\n",
    "scaler = StandardScaler()\n",
    "X_train= scaler.fit_transform(X_train)\n",
    "X_test = scaler.transform(X_test)"
   ]
  },
  {
   "cell_type": "markdown",
   "id": "86b7fd7a-d27a-46a0-a4d6-379389d440f1",
   "metadata": {},
   "source": [
    "The division of the dataset is not precisely 80% for training and 20% for testing, due to the limited number of rows. "
   ]
  },
  {
   "cell_type": "markdown",
   "id": "08e40fa9-7afa-49d1-9d7e-b149409f2c6e",
   "metadata": {},
   "source": [
    "\n",
    "Declared common functions here"
   ]
  },
  {
   "cell_type": "code",
   "execution_count": 6,
   "id": "aa0953c4-54dc-4cbc-b8fd-00f0a415dda7",
   "metadata": {
    "tags": []
   },
   "outputs": [],
   "source": [
    "# common functions\n",
    "def print_report(test, pred, title):\n",
    "    # report data\n",
    "    report = classification_report(test, pred)\n",
    "    print(report)\n",
    "    \n",
    "def performance_tuning(X_train, y_train, X_test, model, param_grid, cv=5, scoring='accuracy'):\n",
    "    # Find best paramater using GridSearchCV\n",
    "    grid_search = GridSearchCV(model, param_grid, cv=cv, scoring=scoring, n_jobs=-1)\n",
    "    grid_search.fit(X_train, y_train)\n",
    "\n",
    "    # Get the best parameters\n",
    "    print(\"Best parameters: \", grid_search.best_params_)\n",
    "\n",
    "    return grid_search.best_estimator_.predict(X_test)\n"
   ]
  },
  {
   "cell_type": "markdown",
   "id": "fc4eaf62-5d54-4517-8d52-0eb83b3f281e",
   "metadata": {
    "tags": []
   },
   "source": [
    "I used sklearn libraries.\n",
    "\n",
    "Initially, we will start with basic parameter settings for our models to establish a baseline performance. Subsequently, we'll employ GridSearchCV to systematically fine-tune these parameters, enhancing the models' accuracy and efficiency\n",
    "\n",
    "### Logistic Regression"
   ]
  },
  {
   "cell_type": "code",
   "execution_count": 7,
   "id": "8bb13bba-3415-4ba3-8007-007e50cac77b",
   "metadata": {
    "tags": []
   },
   "outputs": [
    {
     "name": "stdout",
     "output_type": "stream",
     "text": [
      "LogisticRegression accuracy: 0.9444444444444444\n",
      "              precision    recall  f1-score   support\n",
      "\n",
      "           1       0.89      1.00      0.94         8\n",
      "           2       0.91      0.91      0.91        11\n",
      "           3       1.00      0.94      0.97        17\n",
      "\n",
      "    accuracy                           0.94        36\n",
      "   macro avg       0.93      0.95      0.94        36\n",
      "weighted avg       0.95      0.94      0.94        36\n",
      "\n",
      "Best parameters:  {'C': 1, 'penalty': 'l2', 'solver': 'lbfgs'}\n",
      "LogisticRegression (Best) accuracy: 0.9722222222222222\n",
      "              precision    recall  f1-score   support\n",
      "\n",
      "           1       1.00      1.00      1.00         8\n",
      "           2       0.92      1.00      0.96        11\n",
      "           3       1.00      0.94      0.97        17\n",
      "\n",
      "    accuracy                           0.97        36\n",
      "   macro avg       0.97      0.98      0.98        36\n",
      "weighted avg       0.97      0.97      0.97        36\n",
      "\n"
     ]
    }
   ],
   "source": [
    "# LogisticRegression\n",
    "model = LogisticRegression(C=0.01)\n",
    "model.fit(X_train, y_train)\n",
    "\n",
    "y_pred = model.predict(X_test)\n",
    "\n",
    "accuracy = accuracy_score(y_test, y_pred)\n",
    "print(\"LogisticRegression accuracy:\", accuracy)\n",
    "\n",
    "# visualize classifiction report\n",
    "print_report(y_test, y_pred, 'Logistic Regression')\n",
    "\n",
    "# find best parameters\n",
    "logreg = LogisticRegression(tol=1e-3, max_iter=1000) # prevent error max_iter exceed\n",
    "\n",
    "param_grid = [\n",
    "    {'solver': ['lbfgs'], 'penalty': ['l2'], 'C': [0.001, 0.01, 0.1, 1, 10, 100]},\n",
    "    {'solver': ['liblinear'], 'penalty': ['l1', 'l2'], 'C': [0.001, 0.01, 0.1, 1, 10, 100]},\n",
    "    {'solver': ['newton-cg'], 'penalty': ['l2'], 'C': [0.001, 0.01, 0.1, 1, 10, 100]},\n",
    "    {'solver': ['sag'], 'penalty': ['l2'], 'C': [0.001, 0.01, 0.1, 1, 10, 100]},\n",
    "    {'solver': ['saga'], 'penalty': ['l1', 'l2'], 'C': [0.001, 0.01, 0.1, 1, 10, 100]}\n",
    "]\n",
    "\n",
    "y_pred = performance_tuning(X_train, y_train, X_test, logreg, param_grid)\n",
    "\n",
    "\n",
    "best_accuracy = accuracy_score(y_test, y_pred)\n",
    "print(\"LogisticRegression (Best) accuracy:\", best_accuracy)\n",
    "\n",
    "# print classifiction report\n",
    "print_report(y_test, y_pred, 'Logistic Regression (Best)')\n",
    "\n",
    "\n",
    "performance[0] = ('LogisticRegression', accuracy, best_accuracy)"
   ]
  },
  {
   "cell_type": "code",
   "execution_count": null,
   "id": "dfd74d01-5de5-4aa4-8528-7059d28ed007",
   "metadata": {},
   "outputs": [],
   "source": [
    "# "
   ]
  },
  {
   "cell_type": "code",
   "execution_count": 8,
   "id": "3edb7857-3432-4d00-8378-9a724fe36e34",
   "metadata": {
    "tags": []
   },
   "outputs": [
    {
     "name": "stdout",
     "output_type": "stream",
     "text": [
      "RandomForestClassifier accuracy: 0.8611111111111112\n",
      "Mean Squared Error: 0.2222222222222222\n",
      "              precision    recall  f1-score   support\n",
      "\n",
      "           1       0.88      0.88      0.88         8\n",
      "           2       0.73      1.00      0.85        11\n",
      "           3       1.00      0.76      0.87        17\n",
      "\n",
      "    accuracy                           0.86        36\n",
      "   macro avg       0.87      0.88      0.86        36\n",
      "weighted avg       0.89      0.86      0.86        36\n",
      "\n",
      "Best parameters:  {'max_depth': 3, 'n_estimators': 300}\n",
      "RandomForestClassifier (Best) accuracy: 1.0\n",
      "Mean Squared Error: 0.0\n",
      "              precision    recall  f1-score   support\n",
      "\n",
      "           1       1.00      1.00      1.00         8\n",
      "           2       1.00      1.00      1.00        11\n",
      "           3       1.00      1.00      1.00        17\n",
      "\n",
      "    accuracy                           1.00        36\n",
      "   macro avg       1.00      1.00      1.00        36\n",
      "weighted avg       1.00      1.00      1.00        36\n",
      "\n"
     ]
    }
   ],
   "source": [
    "# RandomForestClassifier\n",
    "model = RandomForestClassifier(max_depth=1, n_estimators=10)\n",
    "model.fit(X_train, y_train)\n",
    "\n",
    "y_pred = model.predict(X_test)\n",
    "\n",
    "accuracy = accuracy_score(y_test, y_pred)\n",
    "print(\"RandomForestClassifier accuracy:\", accuracy)\n",
    "\n",
    "default_mse = mean_squared_error(y_test, y_pred)\n",
    "print(\"Mean Squared Error:\", default_mse)\n",
    "\n",
    "# visualize classifiction report\n",
    "print_report(y_test, y_pred, 'RandomForestClassifier (Default)')\n",
    "\n",
    "# find best parameters\n",
    "rfc = RandomForestClassifier()\n",
    "param_grid = {\n",
    "    'n_estimators': [1, 100, 200, 300],  # Number of trees in the forest\n",
    "    'max_depth': [1, 3, 10, 30],        # Maximum depth of the tree\n",
    "}\n",
    "\n",
    "y_pred = performance_tuning(X_train, y_train, X_test, rfc, param_grid, cv=3)\n",
    "\n",
    "best_accuracy = accuracy_score(y_test, y_pred)\n",
    "print(\"RandomForestClassifier (Best) accuracy:\", best_accuracy)\n",
    "\n",
    "best_mse = mean_squared_error(y_test, y_pred)\n",
    "print(\"Mean Squared Error:\",best_mse)\n",
    "\n",
    "# print classifiction report\n",
    "print_report(y_test, y_pred, 'RandomForestClassifier (Best)')\n",
    "\n",
    "performance[1] = ('RandomForestClassifier', accuracy, best_accuracy)\n"
   ]
  },
  {
   "cell_type": "code",
   "execution_count": null,
   "id": "be9eb6f5-91e4-42f3-811c-f500021478d8",
   "metadata": {
    "tags": []
   },
   "outputs": [],
   "source": []
  },
  {
   "cell_type": "code",
   "execution_count": 9,
   "id": "f6beef3d-7ca2-46e7-b794-e0995c17c717",
   "metadata": {
    "tags": []
   },
   "outputs": [
    {
     "name": "stdout",
     "output_type": "stream",
     "text": [
      "SVC (Default) accuracy: 0.9166666666666666\n",
      "              precision    recall  f1-score   support\n",
      "\n",
      "           1       1.00      1.00      1.00         8\n",
      "           2       0.79      1.00      0.88        11\n",
      "           3       1.00      0.82      0.90        17\n",
      "\n",
      "    accuracy                           0.92        36\n",
      "   macro avg       0.93      0.94      0.93        36\n",
      "weighted avg       0.93      0.92      0.92        36\n",
      "\n",
      "Best parameters:  {'C': 1, 'gamma': 0.01, 'kernel': 'rbf'}\n",
      "SVC (Best) accuracy: 0.9722222222222222\n",
      "              precision    recall  f1-score   support\n",
      "\n",
      "           1       1.00      1.00      1.00         8\n",
      "           2       0.92      1.00      0.96        11\n",
      "           3       1.00      0.94      0.97        17\n",
      "\n",
      "    accuracy                           0.97        36\n",
      "   macro avg       0.97      0.98      0.98        36\n",
      "weighted avg       0.97      0.97      0.97        36\n",
      "\n"
     ]
    }
   ],
   "source": [
    "# SVM\n",
    "model = SVC(C=0.1, kernel='rbf')\n",
    "model.fit(X_train, y_train)\n",
    "\n",
    "y_pred = model.predict(X_test)\n",
    "\n",
    "accuracy = accuracy_score(y_test, y_pred)\n",
    "print(\"SVC (Default) accuracy:\", accuracy)\n",
    "\n",
    "# print classifiction report\n",
    "print_report(y_test, y_pred, 'SVC (Default)')\n",
    "\n",
    "svc = SVC()\n",
    "\n",
    "param_grid = {'C': [0.1, 1, 10], 'gamma': [1, 0.1, 0.01], 'kernel': ['rbf', 'poly', 'sigmoid']}\n",
    "\n",
    "\n",
    "# find best parameters\n",
    "y_pred = performance_tuning(X_train, y_train, X_test, svc, param_grid)\n",
    "\n",
    "\n",
    "best_accuracy = accuracy_score(y_test, y_pred)\n",
    "print(\"SVC (Best) accuracy:\", best_accuracy)\n",
    "\n",
    "# print classifiction report\n",
    "print_report(y_test, y_pred, 'SVC (Best)')\n",
    "\n",
    "performance[2] = ('SVC', accuracy, best_accuracy)\n"
   ]
  },
  {
   "cell_type": "code",
   "execution_count": 10,
   "id": "087eb772-78e8-42ac-92b9-e27d0b2340cc",
   "metadata": {
    "tags": []
   },
   "outputs": [
    {
     "data": {
      "text/plain": [
       "[('LogisticRegression', 0.9444444444444444, 0.9722222222222222),\n",
       " ('RandomForestClassifier', 0.8611111111111112, 1.0),\n",
       " ('SVC', 0.9166666666666666, 0.9722222222222222),\n",
       " 0,\n",
       " '',\n",
       " 0]"
      ]
     },
     "execution_count": 10,
     "metadata": {},
     "output_type": "execute_result"
    }
   ],
   "source": [
    "Lets compare results.\n",
    "\n",
    "\n"
   ]
  },
  {
   "cell_type": "code",
   "execution_count": 15,
   "id": "26802f7e-cdc2-4207-b82f-c245d1f55276",
   "metadata": {
    "tags": []
   },
   "outputs": [
    {
     "data": {
      "image/png": "[encoded data removed]",
      "text/plain": [
       "<Figure size 640x480 with 1 Axes>"
      ]
     },
     "metadata": {},
     "output_type": "display_data"
    }
   ],
   "source": [
    "f_performance = pd.DataFrame(performance[:3])\n",
    "\n",
    "# Creating the bar chart\n",
    "x = range(len(performance[0]))  # the label locations\n",
    "width = 0.35  # the width of the bars\n",
    "\n",
    "fig, ax = plt.subplots()\n",
    "rects1 = ax.bar(x, df_performance[1], width, label='Initial Accuracy')\n",
    "rects2 = ax.bar([p + width for p in x], df_performance[2], width, label='Tuned Accuracy')\n",
    "\n",
    "# Add some text for labels, title and custom x-axis tick labels, etc.\n",
    "ax.set_ylabel('Accuracy')\n",
    "ax.set_title('Model Performance Comparison')\n",
    "ax.set_xticks([p + width / 2 for p in x])\n",
    "ax.set_xticklabels(df_performance[0])\n",
    "ax.legend()\n",
    "\n",
    "# Function to attach a label above each bar\n",
    "def autolabel(rects):\n",
    "    for rect in rects:\n",
    "        height = rect.get_height()\n",
    "        ax.annotate('{}'.format(round(height, 4)),\n",
    "                    xy=(rect.get_x() + rect.get_width() / 2, height),\n",
    "                    xytext=(0, 3),  # 3 points vertical offset\n",
    "                    textcoords=\"offset points\",\n",
    "                    ha='center', va='bottom')\n",
    "\n",
    "# Attaching labels\n",
    "autolabel(rects1)\n",
    "autolabel(rects2)\n",
    "\n",
    "# Show the plot\n",
    "plt.show()"
   ]
  },
  {
   "cell_type": "markdown",
   "id": "b79e469e-07ca-4343-84d5-a444d44c964a",
   "metadata": {},
   "source": [
    "# Summary\n",
    "\n",
    "In this project, I applied three classification algorithms: Logistic Regression, Random Forest Classifier, and Support Vector Classifier (SVC). After fine-tuning the parameters, both Logistic Regression and SVC yielded similar results. However, the Random Forest Classifier showed a discrepancy, as indicated by its perfect score of 1, suggesting it may not be the best fit for this particular dataset.\n",
    "\n",
    "Through parameter tuning, I observed that model performance can be significantly enhanced. This process underscores the importance of selecting and optimizing model parameters tailored to the dataset.\n",
    "\n",
    "# Key Takeaways\n",
    "\n",
    "This project served as an excellent platform for gaining familiarity with various Python libraries central to machine learning, specifically in the realm of classification models. My understanding of model parameters and their impact on performance deepened considerably, especially through hands-on experiences during lab sessions. This has been a valuable step in advancing my knowledge and skills in the field of machine learning.\n",
    "\n",
    "This experience will help managing more complex datasets and models in future projects."
   ]
  }
 ],
 "metadata": {
  "kernelspec": {
   "display_name": "Python 3 (ipykernel)",
   "language": "python",
   "name": "python3"
  },
  "language_info": {
   "codemirror_mode": {
    "name": "ipython",
    "version": 3
   },
   "file_extension": ".py",
   "mimetype": "text/x-python",
   "name": "python",
   "nbconvert_exporter": "python",
   "pygments_lexer": "ipython3",
   "version": "3.11.5"
  }
 },
 "nbformat": 4,
 "nbformat_minor": 5
}
